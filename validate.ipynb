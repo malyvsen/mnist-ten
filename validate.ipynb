{
 "cells": [
  {
   "cell_type": "code",
   "execution_count": 1,
   "metadata": {},
   "outputs": [],
   "source": [
    "import numpy as np\n",
    "import torch\n",
    "from sklearn.metrics import confusion_matrix\n",
    "\n",
    "from mnist_ten.data import test_loader\n",
    "from mnist_ten.models import classifier, weights_path\n",
    "\n",
    "from tqdm.auto import tqdm\n",
    "import matplotlib.pyplot as plt"
   ]
  },
  {
   "cell_type": "code",
   "execution_count": 2,
   "metadata": {},
   "outputs": [
    {
     "data": {
      "text/plain": [
       "Sequential(\n",
       "  (0): Sequential(\n",
       "    (0): Conv2d(1, 64, kernel_size=(3, 3), stride=(1, 1), padding=(1, 1))\n",
       "    (1): LeakyReLU(negative_slope=0.01)\n",
       "    (2): SqueezeLayer(\n",
       "      (short): AvgPool2d(kernel_size=2, stride=2, padding=0)\n",
       "      (long): Sequential(\n",
       "        (0): Conv2d(64, 32, kernel_size=(3, 3), stride=(1, 1), padding=(1, 1))\n",
       "        (1): LeakyReLU(negative_slope=0.01)\n",
       "        (2): Conv2d(32, 64, kernel_size=(3, 3), stride=(1, 1), padding=(1, 1))\n",
       "        (3): LeakyReLU(negative_slope=0.01)\n",
       "        (4): MaxPool2d(kernel_size=2, stride=2, padding=0, dilation=1, ceil_mode=False)\n",
       "      )\n",
       "    )\n",
       "    (3): SqueezeLayer(\n",
       "      (short): AvgPool2d(kernel_size=2, stride=2, padding=0)\n",
       "      (long): Sequential(\n",
       "        (0): Conv2d(64, 32, kernel_size=(3, 3), stride=(1, 1), padding=(1, 1))\n",
       "        (1): LeakyReLU(negative_slope=0.01)\n",
       "        (2): Conv2d(32, 64, kernel_size=(3, 3), stride=(1, 1), padding=(1, 1))\n",
       "        (3): LeakyReLU(negative_slope=0.01)\n",
       "        (4): MaxPool2d(kernel_size=2, stride=2, padding=0, dilation=1, ceil_mode=False)\n",
       "      )\n",
       "    )\n",
       "    (4): Conv2d(64, 64, kernel_size=(1, 1), stride=(1, 1))\n",
       "    (5): LeakyReLU(negative_slope=0.01)\n",
       "    (6): Flatten()\n",
       "  )\n",
       "  (1): Sequential(\n",
       "    (0): Linear(in_features=3136, out_features=64, bias=True)\n",
       "    (1): LeakyReLU(negative_slope=0.01)\n",
       "    (2): Linear(in_features=64, out_features=10, bias=True)\n",
       "  )\n",
       ")"
      ]
     },
     "execution_count": 2,
     "metadata": {},
     "output_type": "execute_result"
    }
   ],
   "source": [
    "classifier.load_state_dict(torch.load(weights_path))\n",
    "classifier.eval()\n",
    "classifier"
   ]
  },
  {
   "cell_type": "code",
   "execution_count": 3,
   "metadata": {},
   "outputs": [
    {
     "data": {
      "application/vnd.jupyter.widget-view+json": {
       "model_id": "dba786832e944c45a1edc876fc827e41",
       "version_major": 2,
       "version_minor": 0
      },
      "text/plain": [
       "HBox(children=(FloatProgress(value=0.0, max=625.0), HTML(value='')))"
      ]
     },
     "metadata": {},
     "output_type": "display_data"
    },
    {
     "name": "stdout",
     "output_type": "stream",
     "text": [
      "\n"
     ]
    }
   ],
   "source": [
    "real_labels = []\n",
    "predicted_labels = []\n",
    "\n",
    "for images, labels in tqdm(test_loader):\n",
    "    real_labels += list(labels)\n",
    "    predictions = classifier(images).detach().numpy()\n",
    "    predicted_labels += np.argmax(predictions, axis=1).tolist()\n",
    "\n",
    "real_labels = np.array(real_labels)\n",
    "predicted_labels = np.array(predicted_labels)"
   ]
  },
  {
   "cell_type": "code",
   "execution_count": 4,
   "metadata": {},
   "outputs": [
    {
     "name": "stdout",
     "output_type": "stream",
     "text": [
      "Accuracy: 0.5263\n"
     ]
    }
   ],
   "source": [
    "print(f'Accuracy: {np.mean(predicted_labels == real_labels)}')"
   ]
  },
  {
   "cell_type": "code",
   "execution_count": 5,
   "metadata": {},
   "outputs": [
    {
     "data": {
      "image/png": "[encoded data removed]",
      "text/plain": [
       "<Figure size 432x288 with 2 Axes>"
      ]
     },
     "metadata": {
      "needs_background": "light"
     },
     "output_type": "display_data"
    }
   ],
   "source": [
    "confusion = confusion_matrix(real_labels, predicted_labels)\n",
    "plt.xlabel('Predicted label')\n",
    "plt.ylabel('Real label')\n",
    "plt.imshow(confusion)\n",
    "plt.colorbar()\n",
    "plt.show()"
   ]
  }
 ],
 "metadata": {
  "kernelspec": {
   "display_name": "Python 3",
   "language": "python",
   "name": "python3"
  },
  "language_info": {
   "codemirror_mode": {
    "name": "ipython",
    "version": 3
   },
   "file_extension": ".py",
   "mimetype": "text/x-python",
   "name": "python",
   "nbconvert_exporter": "python",
   "pygments_lexer": "ipython3",
   "version": "3.8.3"
  },
  "widgets": {
   "application/vnd.jupyter.widget-state+json": {
    "state": {
     "01400dc6a9044330ade5d63b63a80cf6": {
      "model_module": "@jupyter-widgets/base",
      "model_module_version": "1.2.0",
      "model_name": "LayoutModel",
      "state": {}
     },
     "19f5da64f00242a7a1076d226f4d4d45": {
      "model_module": "@jupyter-widgets/controls",
      "model_module_version": "1.5.0",
      "model_name": "ProgressStyleModel",
      "state": {
       "description_width": "initial"
      }
     },
     "1f7fef16e7f14160862181cc580675f3": {
      "model_module": "@jupyter-widgets/controls",
      "model_module_version": "1.5.0",
      "model_name": "DescriptionStyleModel",
      "state": {
       "description_width": ""
      }
     },
     "20317563edd147bdb52187237be276d6": {
      "model_module": "@jupyter-widgets/controls",
      "model_module_version": "1.5.0",
      "model_name": "FloatProgressModel",
      "state": {
       "bar_style": "success",
       "description": "100%",
       "layout": "IPY_MODEL_01400dc6a9044330ade5d63b63a80cf6",
       "max": 625,
       "style": "IPY_MODEL_bbf98c3b755341ffa133e5c03953d3ba",
       "value": 625
      }
     },
     "2132ccdf1f53408092b52c82744adb28": {
      "model_module": "@jupyter-widgets/controls",
      "model_module_version": "1.5.0",
      "model_name": "HTMLModel",
      "state": {
       "layout": "IPY_MODEL_3d8c97d3be7c4a1388cd14d9d21b1f06",
       "style": "IPY_MODEL_7282afea5f974f90b64946cd88c0a204",
       "value": " 625/625 [00:10&lt;00:00, 60.66it/s]"
      }
     },
     "21afa42d15e64d408330ca5f4b827d5f": {
      "model_module": "@jupyter-widgets/base",
      "model_module_version": "1.2.0",
      "model_name": "LayoutModel",
      "state": {}
     },
     "276606057bee4a8b88530fe618219b51": {
      "model_module": "@jupyter-widgets/base",
      "model_module_version": "1.2.0",
      "model_name": "LayoutModel",
      "state": {}
     },
     "290d35ea97e54cc38908bda875ff2ec0": {
      "model_module": "@jupyter-widgets/controls",
      "model_module_version": "1.5.0",
      "model_name": "FloatProgressModel",
      "state": {
       "bar_style": "success",
       "description": "100%",
       "layout": "IPY_MODEL_66d87033c0af4f5a8600189893a65be2",
       "max": 625,
       "style": "IPY_MODEL_c6ebc3336fd54c7995ab2738b1334b9c",
       "value": 625
      }
     },
     "2dcaa66f615a4c43a3cf16ec41fde8da": {
      "model_module": "@jupyter-widgets/controls",
      "model_module_version": "1.5.0",
      "model_name": "HBoxModel",
      "state": {
       "children": [
        "IPY_MODEL_2f66bd9163b54235840265a898acd213",
        "IPY_MODEL_8ac3b117ae864a81a15226189583e530"
       ],
       "layout": "IPY_MODEL_276606057bee4a8b88530fe618219b51"
      }
     },
     "2ddf09e09a0348889e2fb55dbaa001bf": {
      "model_module": "@jupyter-widgets/base",
      "model_module_version": "1.2.0",
      "model_name": "LayoutModel",
      "state": {}
     },
     "2f66bd9163b54235840265a898acd213": {
      "model_module": "@jupyter-widgets/controls",
      "model_module_version": "1.5.0",
      "model_name": "FloatProgressModel",
      "state": {
       "bar_style": "success",
       "description": "100%",
       "layout": "IPY_MODEL_4d5df61e798c460aa3f81bbcc81299ff",
       "max": 625,
       "style": "IPY_MODEL_8abf0afd48734f268fd2656cecc49d0c",
       "value": 625
      }
     },
     "311647af72c34273981b5da01eb11313": {
      "model_module": "@jupyter-widgets/controls",
      "model_module_version": "1.5.0",
      "model_name": "FloatProgressModel",
      "state": {
       "bar_style": "success",
       "description": "100%",
       "layout": "IPY_MODEL_6d6bbba0e2814341a926012838a2b1d5",
       "max": 625,
       "style": "IPY_MODEL_19f5da64f00242a7a1076d226f4d4d45",
       "value": 625
      }
     },
     "325d249115a44182b1b63130a2860010": {
      "model_module": "@jupyter-widgets/base",
      "model_module_version": "1.2.0",
      "model_name": "LayoutModel",
      "state": {}
     },
     "3d8c97d3be7c4a1388cd14d9d21b1f06": {
      "model_module": "@jupyter-widgets/base",
      "model_module_version": "1.2.0",
      "model_name": "LayoutModel",
      "state": {}
     },
     "48457bf6819d4d5db51a4ddb52d9e7c2": {
      "model_module": "@jupyter-widgets/controls",
      "model_module_version": "1.5.0",
      "model_name": "HTMLModel",
      "state": {
       "layout": "IPY_MODEL_8fa00c94cdfc4f1bb3c251b0b0b2b85c",
       "style": "IPY_MODEL_f2d65dcbc1e8445587a1511be3000dff",
       "value": " 625/625 [03:43&lt;00:00,  2.80it/s]"
      }
     },
     "485879a6ad1e411aadb3512115e28946": {
      "model_module": "@jupyter-widgets/controls",
      "model_module_version": "1.5.0",
      "model_name": "DescriptionStyleModel",
      "state": {
       "description_width": ""
      }
     },
     "4ae31bfe4aec4e3c99e59e8d799ebd9d": {
      "model_module": "@jupyter-widgets/base",
      "model_module_version": "1.2.0",
      "model_name": "LayoutModel",
      "state": {}
     },
     "4d1db8757aa44be6a9fbfa8ca6b9ff65": {
      "model_module": "@jupyter-widgets/base",
      "model_module_version": "1.2.0",
      "model_name": "LayoutModel",
      "state": {}
     },
     "4d5df61e798c460aa3f81bbcc81299ff": {
      "model_module": "@jupyter-widgets/base",
      "model_module_version": "1.2.0",
      "model_name": "LayoutModel",
      "state": {}
     },
     "4f3664033db7470f8c4a8224a1a40a6b": {
      "model_module": "@jupyter-widgets/base",
      "model_module_version": "1.2.0",
      "model_name": "LayoutModel",
      "state": {}
     },
     "5175531623314ea5836c2133208264aa": {
      "model_module": "@jupyter-widgets/controls",
      "model_module_version": "1.5.0",
      "model_name": "HTMLModel",
      "state": {
       "layout": "IPY_MODEL_325d249115a44182b1b63130a2860010",
       "style": "IPY_MODEL_c1939233e854451397572d75d1ca3025",
       "value": " 625/625 [01:22&lt;00:00,  7.57it/s]"
      }
     },
     "51ba2fe0d08c4b3997c5fe18a4460f40": {
      "model_module": "@jupyter-widgets/controls",
      "model_module_version": "1.5.0",
      "model_name": "ProgressStyleModel",
      "state": {
       "description_width": "initial"
      }
     },
     "55bb057b8df14ae9891ec26c2a28e40b": {
      "model_module": "@jupyter-widgets/controls",
      "model_module_version": "1.5.0",
      "model_name": "HTMLModel",
      "state": {
       "layout": "IPY_MODEL_753b8921e17a410cb3ecae21680cd5e0",
       "style": "IPY_MODEL_73faa19003c34c59a10defa28178db1a",
       "value": " 625/625 [00:19&lt;00:00, 32.27it/s]"
      }
     },
     "57f5778e847a42acb2b01ecef4a3bcd3": {
      "model_module": "@jupyter-widgets/controls",
      "model_module_version": "1.5.0",
      "model_name": "ProgressStyleModel",
      "state": {
       "description_width": "initial"
      }
     },
     "5828ae3b1c914d648d894536b6f8a64a": {
      "model_module": "@jupyter-widgets/controls",
      "model_module_version": "1.5.0",
      "model_name": "ProgressStyleModel",
      "state": {
       "description_width": "initial"
      }
     },
     "64bb013f953c48868a756f029294cf74": {
      "model_module": "@jupyter-widgets/controls",
      "model_module_version": "1.5.0",
      "model_name": "HBoxModel",
      "state": {
       "children": [
        "IPY_MODEL_20317563edd147bdb52187237be276d6",
        "IPY_MODEL_55bb057b8df14ae9891ec26c2a28e40b"
       ],
       "layout": "IPY_MODEL_4f3664033db7470f8c4a8224a1a40a6b"
      }
     },
     "66d87033c0af4f5a8600189893a65be2": {
      "model_module": "@jupyter-widgets/base",
      "model_module_version": "1.2.0",
      "model_name": "LayoutModel",
      "state": {}
     },
     "68d4e0c57f844e5cabfdd35719671a1e": {
      "model_module": "@jupyter-widgets/controls",
      "model_module_version": "1.5.0",
      "model_name": "DescriptionStyleModel",
      "state": {
       "description_width": ""
      }
     },
     "6d6bbba0e2814341a926012838a2b1d5": {
      "model_module": "@jupyter-widgets/base",
      "model_module_version": "1.2.0",
      "model_name": "LayoutModel",
      "state": {}
     },
     "7282afea5f974f90b64946cd88c0a204": {
      "model_module": "@jupyter-widgets/controls",
      "model_module_version": "1.5.0",
      "model_name": "DescriptionStyleModel",
      "state": {
       "description_width": ""
      }
     },
     "73faa19003c34c59a10defa28178db1a": {
      "model_module": "@jupyter-widgets/controls",
      "model_module_version": "1.5.0",
      "model_name": "DescriptionStyleModel",
      "state": {
       "description_width": ""
      }
     },
     "753b8921e17a410cb3ecae21680cd5e0": {
      "model_module": "@jupyter-widgets/base",
      "model_module_version": "1.2.0",
      "model_name": "LayoutModel",
      "state": {}
     },
     "75c759b12da24ce593256e8f1c6fe75a": {
      "model_module": "@jupyter-widgets/controls",
      "model_module_version": "1.5.0",
      "model_name": "FloatProgressModel",
      "state": {
       "bar_style": "success",
       "description": "100%",
       "layout": "IPY_MODEL_f15d07497e6642f7b0bdcec4510555f3",
       "max": 60000,
       "style": "IPY_MODEL_51ba2fe0d08c4b3997c5fe18a4460f40",
       "value": 60000
      }
     },
     "7e2d0e331b1a43e499a93f8dc0de54bb": {
      "model_module": "@jupyter-widgets/controls",
      "model_module_version": "1.5.0",
      "model_name": "HBoxModel",
      "state": {
       "children": [
        "IPY_MODEL_bf96d715b20e4899a0e4b9cb57b8028e",
        "IPY_MODEL_5175531623314ea5836c2133208264aa"
       ],
       "layout": "IPY_MODEL_21afa42d15e64d408330ca5f4b827d5f"
      }
     },
     "804ae52e24a241379e80eabc6717ba75": {
      "model_module": "@jupyter-widgets/base",
      "model_module_version": "1.2.0",
      "model_name": "LayoutModel",
      "state": {}
     },
     "8abf0afd48734f268fd2656cecc49d0c": {
      "model_module": "@jupyter-widgets/controls",
      "model_module_version": "1.5.0",
      "model_name": "ProgressStyleModel",
      "state": {
       "description_width": "initial"
      }
     },
     "8ac3b117ae864a81a15226189583e530": {
      "model_module": "@jupyter-widgets/controls",
      "model_module_version": "1.5.0",
      "model_name": "HTMLModel",
      "state": {
       "layout": "IPY_MODEL_4ae31bfe4aec4e3c99e59e8d799ebd9d",
       "style": "IPY_MODEL_68d4e0c57f844e5cabfdd35719671a1e",
       "value": " 625/625 [03:38&lt;00:00,  2.85it/s]"
      }
     },
     "8bc3c6438a44411d95283a11b163ca61": {
      "model_module": "@jupyter-widgets/controls",
      "model_module_version": "1.5.0",
      "model_name": "HBoxModel",
      "state": {
       "children": [
        "IPY_MODEL_8cb0bc631ac842b08dd8e59f9de59309",
        "IPY_MODEL_48457bf6819d4d5db51a4ddb52d9e7c2"
       ],
       "layout": "IPY_MODEL_2ddf09e09a0348889e2fb55dbaa001bf"
      }
     },
     "8cb0bc631ac842b08dd8e59f9de59309": {
      "model_module": "@jupyter-widgets/controls",
      "model_module_version": "1.5.0",
      "model_name": "FloatProgressModel",
      "state": {
       "bar_style": "success",
       "description": "100%",
       "layout": "IPY_MODEL_94305a2656574b60b347ba31106c2fb1",
       "max": 625,
       "style": "IPY_MODEL_a9eeba1b10bb4e45b210fdf4b1be93bb",
       "value": 625
      }
     },
     "8ec4ea01d1be4971829dd73432df94b5": {
      "model_module": "@jupyter-widgets/controls",
      "model_module_version": "1.5.0",
      "model_name": "DescriptionStyleModel",
      "state": {
       "description_width": ""
      }
     },
     "8fa00c94cdfc4f1bb3c251b0b0b2b85c": {
      "model_module": "@jupyter-widgets/base",
      "model_module_version": "1.2.0",
      "model_name": "LayoutModel",
      "state": {}
     },
     "94305a2656574b60b347ba31106c2fb1": {
      "model_module": "@jupyter-widgets/base",
      "model_module_version": "1.2.0",
      "model_name": "LayoutModel",
      "state": {}
     },
     "981a00fe3d8c48c1bf6610e974ee242a": {
      "model_module": "@jupyter-widgets/controls",
      "model_module_version": "1.5.0",
      "model_name": "HTMLModel",
      "state": {
       "layout": "IPY_MODEL_c1c27839d6954309ac7c3c54e09d93f5",
       "style": "IPY_MODEL_8ec4ea01d1be4971829dd73432df94b5",
       "value": " 60000/60000 [00:04&lt;00:00, 14838.95it/s]"
      }
     },
     "981a9f1f14624cb8a9571e1e6ee6abc4": {
      "model_module": "@jupyter-widgets/controls",
      "model_module_version": "1.5.0",
      "model_name": "HBoxModel",
      "state": {
       "children": [
        "IPY_MODEL_75c759b12da24ce593256e8f1c6fe75a",
        "IPY_MODEL_981a00fe3d8c48c1bf6610e974ee242a"
       ],
       "layout": "IPY_MODEL_ea9b4560ee594d198db1341fe45c25df"
      }
     },
     "a3b3cf5b6aa04c0187615260b1706e37": {
      "model_module": "@jupyter-widgets/controls",
      "model_module_version": "1.5.0",
      "model_name": "FloatProgressModel",
      "state": {
       "bar_style": "success",
       "description": "100%",
       "layout": "IPY_MODEL_4d1db8757aa44be6a9fbfa8ca6b9ff65",
       "max": 625,
       "style": "IPY_MODEL_5828ae3b1c914d648d894536b6f8a64a",
       "value": 625
      }
     },
     "a9eeba1b10bb4e45b210fdf4b1be93bb": {
      "model_module": "@jupyter-widgets/controls",
      "model_module_version": "1.5.0",
      "model_name": "ProgressStyleModel",
      "state": {
       "description_width": "initial"
      }
     },
     "b24ab103821a415c9def22d40fbb97ad": {
      "model_module": "@jupyter-widgets/base",
      "model_module_version": "1.2.0",
      "model_name": "LayoutModel",
      "state": {}
     },
     "b3275ab6b58b41ba825d45cf377b34df": {
      "model_module": "@jupyter-widgets/controls",
      "model_module_version": "1.5.0",
      "model_name": "HBoxModel",
      "state": {
       "children": [
        "IPY_MODEL_a3b3cf5b6aa04c0187615260b1706e37",
        "IPY_MODEL_f8421c61c2554352956bfa519ccbfb8a"
       ],
       "layout": "IPY_MODEL_d395a8da313e4178ab6bd55cc1fd6414"
      }
     },
     "b8e71ec667fb409ea5307af3f77e1df2": {
      "model_module": "@jupyter-widgets/controls",
      "model_module_version": "1.5.0",
      "model_name": "HTMLModel",
      "state": {
       "layout": "IPY_MODEL_bf28f1ebfc1a47d39f5ac8ca7d5187b7",
       "style": "IPY_MODEL_485879a6ad1e411aadb3512115e28946",
       "value": " 625/625 [00:13&lt;00:00, 44.82it/s]"
      }
     },
     "bbf98c3b755341ffa133e5c03953d3ba": {
      "model_module": "@jupyter-widgets/controls",
      "model_module_version": "1.5.0",
      "model_name": "ProgressStyleModel",
      "state": {
       "description_width": "initial"
      }
     },
     "bf28f1ebfc1a47d39f5ac8ca7d5187b7": {
      "model_module": "@jupyter-widgets/base",
      "model_module_version": "1.2.0",
      "model_name": "LayoutModel",
      "state": {}
     },
     "bf96d715b20e4899a0e4b9cb57b8028e": {
      "model_module": "@jupyter-widgets/controls",
      "model_module_version": "1.5.0",
      "model_name": "FloatProgressModel",
      "state": {
       "bar_style": "success",
       "description": "100%",
       "layout": "IPY_MODEL_804ae52e24a241379e80eabc6717ba75",
       "max": 625,
       "style": "IPY_MODEL_57f5778e847a42acb2b01ecef4a3bcd3",
       "value": 625
      }
     },
     "c1939233e854451397572d75d1ca3025": {
      "model_module": "@jupyter-widgets/controls",
      "model_module_version": "1.5.0",
      "model_name": "DescriptionStyleModel",
      "state": {
       "description_width": ""
      }
     },
     "c1c27839d6954309ac7c3c54e09d93f5": {
      "model_module": "@jupyter-widgets/base",
      "model_module_version": "1.2.0",
      "model_name": "LayoutModel",
      "state": {}
     },
     "c6ebc3336fd54c7995ab2738b1334b9c": {
      "model_module": "@jupyter-widgets/controls",
      "model_module_version": "1.5.0",
      "model_name": "ProgressStyleModel",
      "state": {
       "description_width": "initial"
      }
     },
     "d22cdbbe814247e09a6072abbc617c64": {
      "model_module": "@jupyter-widgets/base",
      "model_module_version": "1.2.0",
      "model_name": "LayoutModel",
      "state": {}
     },
     "d395a8da313e4178ab6bd55cc1fd6414": {
      "model_module": "@jupyter-widgets/base",
      "model_module_version": "1.2.0",
      "model_name": "LayoutModel",
      "state": {}
     },
     "d4032d2621d14a53bb9161088d871679": {
      "model_module": "@jupyter-widgets/base",
      "model_module_version": "1.2.0",
      "model_name": "LayoutModel",
      "state": {}
     },
     "dba786832e944c45a1edc876fc827e41": {
      "model_module": "@jupyter-widgets/controls",
      "model_module_version": "1.5.0",
      "model_name": "HBoxModel",
      "state": {
       "children": [
        "IPY_MODEL_311647af72c34273981b5da01eb11313",
        "IPY_MODEL_2132ccdf1f53408092b52c82744adb28"
       ],
       "layout": "IPY_MODEL_b24ab103821a415c9def22d40fbb97ad"
      }
     },
     "ea2e5e283f5d478fab9061e82d2638e8": {
      "model_module": "@jupyter-widgets/controls",
      "model_module_version": "1.5.0",
      "model_name": "HBoxModel",
      "state": {
       "children": [
        "IPY_MODEL_290d35ea97e54cc38908bda875ff2ec0",
        "IPY_MODEL_b8e71ec667fb409ea5307af3f77e1df2"
       ],
       "layout": "IPY_MODEL_d4032d2621d14a53bb9161088d871679"
      }
     },
     "ea9b4560ee594d198db1341fe45c25df": {
      "model_module": "@jupyter-widgets/base",
      "model_module_version": "1.2.0",
      "model_name": "LayoutModel",
      "state": {}
     },
     "f15d07497e6642f7b0bdcec4510555f3": {
      "model_module": "@jupyter-widgets/base",
      "model_module_version": "1.2.0",
      "model_name": "LayoutModel",
      "state": {}
     },
     "f2d65dcbc1e8445587a1511be3000dff": {
      "model_module": "@jupyter-widgets/controls",
      "model_module_version": "1.5.0",
      "model_name": "DescriptionStyleModel",
      "state": {
       "description_width": ""
      }
     },
     "f8421c61c2554352956bfa519ccbfb8a": {
      "model_module": "@jupyter-widgets/controls",
      "model_module_version": "1.5.0",
      "model_name": "HTMLModel",
      "state": {
       "layout": "IPY_MODEL_d22cdbbe814247e09a6072abbc617c64",
       "style": "IPY_MODEL_1f7fef16e7f14160862181cc580675f3",
       "value": " 625/625 [15:09&lt;00:00,  1.46s/it]"
      }
     }
    },
    "version_major": 2,
    "version_minor": 0
   }
  }
 },
 "nbformat": 4,
 "nbformat_minor": 4
}
